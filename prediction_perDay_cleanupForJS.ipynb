{
 "cells": [
  {
   "cell_type": "markdown",
   "metadata": {},
   "source": [
    "# py2"
   ]
  },
  {
   "cell_type": "code",
   "execution_count": 58,
   "metadata": {},
   "outputs": [
    {
     "name": "stdout",
     "output_type": "stream",
     "text": [
      "/Users/dfan/Library/Jupyter\n"
     ]
    }
   ],
   "source": [
    "from jupyter_core.paths import jupyter_data_dir\n",
    "print(jupyter_data_dir())\n",
    "\n",
    "from parcels import FieldSet, ParticleSet, Variable, JITParticle, AdvectionRK4, plotTrajectoriesFile\n",
    "import numpy as np\n",
    "import math\n",
    "from datetime import timedelta\n",
    "from operator import attrgetter\n",
    "from scipy.io import netcdf\n",
    "import pandas as pd\n",
    "import numpy as np"
   ]
  },
  {
   "cell_type": "code",
   "execution_count": 59,
   "metadata": {},
   "outputs": [
    {
     "name": "stdout",
     "output_type": "stream",
     "text": [
      "157800.0\n",
      "(35.040000915527344, 42.0)\n",
      "(134.9599609375, 154.9599609375)\n"
     ]
    }
   ],
   "source": [
    "fname = './2017-12-01-2018-01-01_Dec.nc'\n",
    "f = netcdf.netcdf_file(fname, 'r')\n",
    "print(f.variables['time'][:][-1])\n",
    "print(f.variables['lat'][:].min(), f.variables['lat'][:].max())\n",
    "print(f.variables['lon'][:].min(), f.variables['lon'][:].max())\n",
    "f.close()\n",
    "\n",
    "filenames = {'U': fname,\n",
    "             'V': fname}\n",
    "variables = {'U': 'water_u',\n",
    "             'V': 'water_v'}\n",
    "dimensions = {'lat': 'lat',\n",
    "              'lon': 'lon',\n",
    "              'time': 'time'}\n",
    "fieldset = FieldSet.from_netcdf(filenames, variables, dimensions)"
   ]
  },
  {
   "cell_type": "markdown",
   "metadata": {},
   "source": [
    "distance: km (?)"
   ]
  },
  {
   "cell_type": "code",
   "execution_count": 67,
   "metadata": {},
   "outputs": [],
   "source": [
    "# lon_list = [144,143,142,138]\n",
    "# lat_list = [39,38,37,40]\n",
    "\n",
    "dt_simu_min = 5\n",
    "dt_output_hour = 24\n",
    "dt_runtime_day = 10\n",
    "\n",
    "class DistParticle(JITParticle):  # Define a new particle class that contains three extra variables\n",
    "    distance = Variable('distance', initial=0., dtype=np.float32)  # the distance travelled\n",
    "    prev_lon = Variable('prev_lon', dtype=np.float32, to_write=False,\n",
    "                        initial=attrgetter('lon'))  # the previous longitude\n",
    "    prev_lat = Variable('prev_lat', dtype=np.float32, to_write=False,\n",
    "                        initial=attrgetter('lat'))  # the previous latitude.\n",
    "    \n",
    "def TotalDistance(particle, fieldset, time, dt):\n",
    "    # Calculate the distance in latitudinal direction (using 1.11e2 kilometer per degree latitude)\n",
    "    lat_dist = (particle.lat - particle.prev_lat) * 1.11e2\n",
    "    # Calculate the distance in longitudinal direction, using cosine(latitude) - spherical earth\n",
    "    lon_dist = (particle.lon - particle.prev_lon) * 1.11e2 * math.cos(particle.lat * math.pi / 180)\n",
    "    # Calculate the total Euclidean distance travelled by the particle\n",
    "    particle.distance += math.sqrt(math.pow(lon_dist, 2) + math.pow(lat_dist, 2))\n",
    "\n",
    "    particle.prev_lon = particle.lon  # Set the stored values for next iteration.\n",
    "    particle.prev_lat = particle.lat\n",
    "    \n",
    "fieldset = FieldSet.from_netcdf(filenames, variables, dimensions)\n",
    "pset = ParticleSet.from_list(fieldset=fieldset, pclass=DistParticle, lon=lon_list, lat=lat_list)\n",
    "\n",
    "k_dist = pset.Kernel(TotalDistance)  # Casting the TotalDistance function to a kernel."
   ]
  },
  {
   "cell_type": "markdown",
   "metadata": {},
   "source": [
    "# Backward"
   ]
  },
  {
   "cell_type": "code",
   "execution_count": 68,
   "metadata": {},
   "outputs": [
    {
     "name": "stderr",
     "output_type": "stream",
     "text": [
      "INFO: Compiled DistParticleAdvectionRK4TotalDistance ==> /var/folders/53/gwmjysl108j6kl5bnshg2qxw0000gp/T/parcels-502/29d6d2fb116b2b10baf8bd05387b250a.so\n"
     ]
    }
   ],
   "source": [
    "output_name = 'out_backward'\n",
    "pset.execute(AdvectionRK4 + k_dist,  # Add kernels using the + operator.\n",
    "             runtime=timedelta(days=dt_runtime_day),\n",
    "             dt=-timedelta(minutes=dt_simu_min), # dt for run/simulation\n",
    "             output_file=pset.ParticleFile(name=output_name, outputdt=timedelta(hours=dt_output_hour))) # dt for output"
   ]
  },
  {
   "cell_type": "code",
   "execution_count": 69,
   "metadata": {},
   "outputs": [
    {
     "name": "stdout",
     "output_type": "stream",
     "text": [
      "[355.18164, 221.83934, 159.3211, 262.61826]\n"
     ]
    }
   ],
   "source": [
    "print [p.distance for p in pset]"
   ]
  },
  {
   "cell_type": "code",
   "execution_count": 70,
   "metadata": {},
   "outputs": [
    {
     "data": {
      "image/png": "[encoded data removed]",
      "text/plain": [
       "<matplotlib.figure.Figure at 0x1a1e425190>"
      ]
     },
     "metadata": {},
     "output_type": "display_data"
    },
    {
     "data": {
      "text/plain": [
       "<module 'matplotlib.pyplot' from '/Users/dfan/anaconda3/envs/py2_parcels/lib/python2.7/site-packages/matplotlib/pyplot.pyc'>"
      ]
     },
     "execution_count": 70,
     "metadata": {},
     "output_type": "execute_result"
    }
   ],
   "source": [
    "plotTrajectoriesFile(output_name+'.nc',\n",
    "                     tracerlon='lon',\n",
    "                     tracerlat='lat')"
   ]
  },
  {
   "cell_type": "markdown",
   "metadata": {},
   "source": [
    "# Forward"
   ]
  },
  {
   "cell_type": "code",
   "execution_count": 79,
   "metadata": {},
   "outputs": [],
   "source": [
    "# output_name = 'out_forward'\n",
    "# pset.execute(AdvectionRK4 + k_dist,  # Add kernels using the + operator.\n",
    "#              runtime=timedelta(days=dt_runtime_day),\n",
    "#              dt=timedelta(minutes=dt_simu_min), # dt for run/simulation\n",
    "#              output_file=pset.ParticleFile(name=output_name, outputdt=timedelta(hours=dt_output_hour))) # dt for output"
   ]
  },
  {
   "cell_type": "code",
   "execution_count": 80,
   "metadata": {},
   "outputs": [],
   "source": [
    "# print [p.distance for p in pset]"
   ]
  },
  {
   "cell_type": "markdown",
   "metadata": {},
   "source": [
    "<br/>\n",
    "<br/>"
   ]
  },
  {
   "cell_type": "markdown",
   "metadata": {},
   "source": [
    "# clean "
   ]
  },
  {
   "cell_type": "code",
   "execution_count": 71,
   "metadata": {},
   "outputs": [],
   "source": [
    "from netCDF4 import Dataset\n",
    "import pandas as pd\n",
    "from scipy.io import netcdf\n",
    "import pandas as pd"
   ]
  },
  {
   "cell_type": "code",
   "execution_count": 72,
   "metadata": {},
   "outputs": [
    {
     "data": {
      "text/plain": [
       "[u'trajectory', u'time', u'lat', u'lon', u'z', u'distance']"
      ]
     },
     "execution_count": 72,
     "metadata": {},
     "output_type": "execute_result"
    }
   ],
   "source": [
    "output_name = 'out_backward.nc'\n",
    "f = Dataset(output_name)\n",
    "f.variables.keys()"
   ]
  },
  {
   "cell_type": "code",
   "execution_count": 73,
   "metadata": {},
   "outputs": [],
   "source": [
    "newdata = []\n",
    "for idx in range(len(f.variables['trajectory'][:])):\n",
    "    for i, t in enumerate(f.variables['time'][:][0]):\n",
    "        newdata.append([idx, t, \n",
    "                        f.variables['lat'][:][idx, i], \n",
    "                        f.variables['lon'][:][idx, i], \n",
    "                        f.variables['distance'][:][idx, i]])\n",
    "df = pd.DataFrame.from_records(newdata, columns=['idx', 'time', 'lat', 'lon', 'distance'])"
   ]
  },
  {
   "cell_type": "code",
   "execution_count": 74,
   "metadata": {},
   "outputs": [],
   "source": [
    "f = netcdf.netcdf_file(fname, 'r')\n",
    "lastday = pd.to_datetime('2000-01-01')+pd.to_timedelta(f.variables['time'][:], unit='h')[-1]\n",
    "df['date'] = lastday - pd.to_timedelta(df.time[0]-df['time'].values, unit='s')\n",
    "df = df.drop(['time'], axis=1)"
   ]
  },
  {
   "cell_type": "code",
   "execution_count": 77,
   "metadata": {},
   "outputs": [
    {
     "data": {
      "text/html": [
       "<div>\n",
       "<style scoped>\n",
       "    .dataframe tbody tr th:only-of-type {\n",
       "        vertical-align: middle;\n",
       "    }\n",
       "\n",
       "    .dataframe tbody tr th {\n",
       "        vertical-align: top;\n",
       "    }\n",
       "\n",
       "    .dataframe thead th {\n",
       "        text-align: right;\n",
       "    }\n",
       "</style>\n",
       "<table border=\"1\" class=\"dataframe\">\n",
       "  <thead>\n",
       "    <tr style=\"text-align: right;\">\n",
       "      <th></th>\n",
       "      <th>idx</th>\n",
       "      <th>lat</th>\n",
       "      <th>lon</th>\n",
       "      <th>distance</th>\n",
       "      <th>date</th>\n",
       "    </tr>\n",
       "  </thead>\n",
       "  <tbody>\n",
       "    <tr>\n",
       "      <th>0</th>\n",
       "      <td>0</td>\n",
       "      <td>39.000000</td>\n",
       "      <td>144.000000</td>\n",
       "      <td>0.000000</td>\n",
       "      <td>2018-01-01</td>\n",
       "    </tr>\n",
       "    <tr>\n",
       "      <th>1</th>\n",
       "      <td>0</td>\n",
       "      <td>38.820770</td>\n",
       "      <td>144.388229</td>\n",
       "      <td>39.158112</td>\n",
       "      <td>2017-12-31</td>\n",
       "    </tr>\n",
       "    <tr>\n",
       "      <th>2</th>\n",
       "      <td>0</td>\n",
       "      <td>38.880184</td>\n",
       "      <td>144.782837</td>\n",
       "      <td>76.484436</td>\n",
       "      <td>2017-12-30</td>\n",
       "    </tr>\n",
       "    <tr>\n",
       "      <th>3</th>\n",
       "      <td>0</td>\n",
       "      <td>39.462070</td>\n",
       "      <td>144.885300</td>\n",
       "      <td>144.314758</td>\n",
       "      <td>2017-12-29</td>\n",
       "    </tr>\n",
       "    <tr>\n",
       "      <th>4</th>\n",
       "      <td>0</td>\n",
       "      <td>39.783844</td>\n",
       "      <td>144.388870</td>\n",
       "      <td>204.381073</td>\n",
       "      <td>2017-12-28</td>\n",
       "    </tr>\n",
       "  </tbody>\n",
       "</table>\n",
       "</div>"
      ],
      "text/plain": [
       "   idx        lat         lon    distance       date\n",
       "0    0  39.000000  144.000000    0.000000 2018-01-01\n",
       "1    0  38.820770  144.388229   39.158112 2017-12-31\n",
       "2    0  38.880184  144.782837   76.484436 2017-12-30\n",
       "3    0  39.462070  144.885300  144.314758 2017-12-29\n",
       "4    0  39.783844  144.388870  204.381073 2017-12-28"
      ]
     },
     "execution_count": 77,
     "metadata": {},
     "output_type": "execute_result"
    }
   ],
   "source": [
    "df.head()"
   ]
  },
  {
   "cell_type": "markdown",
   "metadata": {},
   "source": [
    "## Output"
   ]
  },
  {
   "cell_type": "code",
   "execution_count": 78,
   "metadata": {},
   "outputs": [],
   "source": [
    "df.to_csv('./four_plastics.csv')"
   ]
  }
 ],
 "metadata": {
  "kernelspec": {
   "display_name": "Python 2",
   "language": "python",
   "name": "python2"
  },
  "language_info": {
   "codemirror_mode": {
    "name": "ipython",
    "version": 2
   },
   "file_extension": ".py",
   "mimetype": "text/x-python",
   "name": "python",
   "nbconvert_exporter": "python",
   "pygments_lexer": "ipython2",
   "version": "2.7.14"
  }
 },
 "nbformat": 4,
 "nbformat_minor": 2
}
