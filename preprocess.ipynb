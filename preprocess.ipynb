{
 "cells": [
  {
   "cell_type": "code",
   "execution_count": null,
   "metadata": {},
   "outputs": [],
   "source": [
    "from netCDF4 import Dataset\n",
    "import pandas as pd\n",
    "from scipy.io import netcdf"
   ]
  },
  {
   "cell_type": "markdown",
   "metadata": {},
   "source": [
    "### Data: metadata (like scale_factor)"
   ]
  },
  {
   "cell_type": "code",
   "execution_count": 431,
   "metadata": {},
   "outputs": [
    {
     "data": {
      "text/plain": [
       "<class 'netCDF4._netCDF4.Variable'>\n",
       "int16 water_u(time, depth, lat, lon)\n",
       "    long_name: Eastward Water Velocity\n",
       "    standard_name: eastward_sea_water_velocity\n",
       "    units: m/s\n",
       "    _FillValue: -30000\n",
       "    missing_value: -30000\n",
       "    scale_factor: 0.001\n",
       "    add_offset: 0.0\n",
       "    NAVO_code: 17\n",
       "    coordinates: time depth lat lon \n",
       "unlimited dimensions: \n",
       "current shape = (32, 40, 88, 251)\n",
       "filling off"
      ]
     },
     "execution_count": 431,
     "metadata": {},
     "output_type": "execute_result"
    }
   ],
   "source": [
    "f = Dataset('2017-12-01-2018-01-01_Dec.nc')\n",
    "f.variables['water_u']\n",
    "# scale_factor: 0.001\n",
    "# missing_value: -30000"
   ]
  },
  {
   "cell_type": "code",
   "execution_count": 405,
   "metadata": {},
   "outputs": [],
   "source": [
    "missing_value = -30000\n",
    "scale_factor = 0.001\n",
    "f.close()"
   ]
  },
  {
   "cell_type": "markdown",
   "metadata": {},
   "source": [
    "### Read"
   ]
  },
  {
   "cell_type": "code",
   "execution_count": 406,
   "metadata": {},
   "outputs": [
    {
     "name": "stdout",
     "output_type": "stream",
     "text": [
      "odict_keys(['water_u', 'time', 'depth', 'lat', 'lon', 'water_v'])\n"
     ]
    }
   ],
   "source": [
    "f = netcdf.netcdf_file('2017-12-01-2018-01-01_Dec.nc', 'r')\n",
    "print(data.variables.keys())\n",
    "\n",
    "water_u = f.variables['water_u']\n",
    "water_v = f.variables['water_v']\n",
    "time = f.variables['time']\n",
    "depth = f.variables['depth']\n",
    "lat = f.variables['lat']\n",
    "lon = f.variables['lon']\n",
    "all_var = list(zip([water_u, time, depth, lat, lon, water_v,], data.variables.keys()))\n",
    "for var, name in all_var:\n",
    "    print(name, \": \", var[:].shape)\n",
    "    \n",
    "print('depth: {} ...'.format(depth[:5]))\n",
    "water_u_suf = water_u.data[:,0,:,:]\n",
    "water_v_suf = water_v.data[:,0,:,:]\n",
    "print(water_u.shape)\n",
    "print(water_u_suf.shape, 'depth=0')"
   ]
  },
  {
   "cell_type": "markdown",
   "metadata": {},
   "source": [
    "### Reconstructure Data"
   ]
  },
  {
   "cell_type": "code",
   "execution_count": 419,
   "metadata": {},
   "outputs": [],
   "source": [
    "newdata = []\n",
    "for t in enumerate(time.data):\n",
    "    for la in enumerate(lat.data):\n",
    "        for ln in enumerate(lon.data):\n",
    "            newdata.append([t[1], la[1], ln[1], \n",
    "                            water_u_suf[t[0], la[0], ln[0]], \n",
    "                            water_v_suf[t[0], la[0], ln[0]]])\n",
    "            \n",
    "df = pd.DataFrame.from_records(newdata, columns=['time', 'lat', 'lon', 'u', 'v'])\n",
    "df.replace({'u': {missing_value: None},\n",
    "            'v': {missing_value: None}},inplace = True)\n",
    "df['u'] = scale_factor * df['u']\n",
    "df['v'] = scale_factor * df['v']\n",
    "df.dropna(subset=['u', 'v'], inplace=True)"
   ]
  },
  {
   "cell_type": "code",
   "execution_count": 422,
   "metadata": {},
   "outputs": [
    {
     "data": {
      "text/html": [
       "<div>\n",
       "<style scoped>\n",
       "    .dataframe tbody tr th:only-of-type {\n",
       "        vertical-align: middle;\n",
       "    }\n",
       "\n",
       "    .dataframe tbody tr th {\n",
       "        vertical-align: top;\n",
       "    }\n",
       "\n",
       "    .dataframe thead th {\n",
       "        text-align: right;\n",
       "    }\n",
       "</style>\n",
       "<table border=\"1\" class=\"dataframe\">\n",
       "  <thead>\n",
       "    <tr style=\"text-align: right;\">\n",
       "      <th></th>\n",
       "      <th>time</th>\n",
       "      <th>lat</th>\n",
       "      <th>lon</th>\n",
       "    </tr>\n",
       "  </thead>\n",
       "  <tbody>\n",
       "    <tr>\n",
       "      <th>count</th>\n",
       "      <td>706816.000000</td>\n",
       "      <td>706816.000000</td>\n",
       "      <td>706816.000000</td>\n",
       "    </tr>\n",
       "    <tr>\n",
       "      <th>mean</th>\n",
       "      <td>157428.000000</td>\n",
       "      <td>38.520000</td>\n",
       "      <td>144.960000</td>\n",
       "    </tr>\n",
       "    <tr>\n",
       "      <th>std</th>\n",
       "      <td>221.594381</td>\n",
       "      <td>2.032143</td>\n",
       "      <td>5.796556</td>\n",
       "    </tr>\n",
       "    <tr>\n",
       "      <th>min</th>\n",
       "      <td>157056.000000</td>\n",
       "      <td>35.040001</td>\n",
       "      <td>134.959961</td>\n",
       "    </tr>\n",
       "    <tr>\n",
       "      <th>25%</th>\n",
       "      <td>157242.000000</td>\n",
       "      <td>36.780000</td>\n",
       "      <td>139.920044</td>\n",
       "    </tr>\n",
       "    <tr>\n",
       "      <th>50%</th>\n",
       "      <td>157428.000000</td>\n",
       "      <td>38.520000</td>\n",
       "      <td>144.959961</td>\n",
       "    </tr>\n",
       "    <tr>\n",
       "      <th>75%</th>\n",
       "      <td>157614.000000</td>\n",
       "      <td>40.260001</td>\n",
       "      <td>150.000000</td>\n",
       "    </tr>\n",
       "    <tr>\n",
       "      <th>max</th>\n",
       "      <td>157800.000000</td>\n",
       "      <td>42.000000</td>\n",
       "      <td>154.959961</td>\n",
       "    </tr>\n",
       "  </tbody>\n",
       "</table>\n",
       "</div>"
      ],
      "text/plain": [
       "                time            lat            lon\n",
       "count  706816.000000  706816.000000  706816.000000\n",
       "mean   157428.000000      38.520000     144.960000\n",
       "std       221.594381       2.032143       5.796556\n",
       "min    157056.000000      35.040001     134.959961\n",
       "25%    157242.000000      36.780000     139.920044\n",
       "50%    157428.000000      38.520000     144.959961\n",
       "75%    157614.000000      40.260001     150.000000\n",
       "max    157800.000000      42.000000     154.959961"
      ]
     },
     "execution_count": 422,
     "metadata": {},
     "output_type": "execute_result"
    }
   ],
   "source": [
    "df.describe()"
   ]
  },
  {
   "cell_type": "code",
   "execution_count": 427,
   "metadata": {},
   "outputs": [
    {
     "data": {
      "text/html": [
       "<div>\n",
       "<style scoped>\n",
       "    .dataframe tbody tr th:only-of-type {\n",
       "        vertical-align: middle;\n",
       "    }\n",
       "\n",
       "    .dataframe tbody tr th {\n",
       "        vertical-align: top;\n",
       "    }\n",
       "\n",
       "    .dataframe thead th {\n",
       "        text-align: right;\n",
       "    }\n",
       "</style>\n",
       "<table border=\"1\" class=\"dataframe\">\n",
       "  <thead>\n",
       "    <tr style=\"text-align: right;\">\n",
       "      <th></th>\n",
       "      <th>time</th>\n",
       "      <th>lat</th>\n",
       "      <th>lon</th>\n",
       "      <th>u</th>\n",
       "      <th>v</th>\n",
       "    </tr>\n",
       "  </thead>\n",
       "  <tbody>\n",
       "    <tr>\n",
       "      <th>45</th>\n",
       "      <td>157056.0</td>\n",
       "      <td>35.040001</td>\n",
       "      <td>138.560059</td>\n",
       "      <td>-0.009</td>\n",
       "      <td>-0.034</td>\n",
       "    </tr>\n",
       "    <tr>\n",
       "      <th>46</th>\n",
       "      <td>157056.0</td>\n",
       "      <td>35.040001</td>\n",
       "      <td>138.640015</td>\n",
       "      <td>-0.014</td>\n",
       "      <td>-0.016</td>\n",
       "    </tr>\n",
       "    <tr>\n",
       "      <th>47</th>\n",
       "      <td>157056.0</td>\n",
       "      <td>35.040001</td>\n",
       "      <td>138.719971</td>\n",
       "      <td>-0.005</td>\n",
       "      <td>0.041</td>\n",
       "    </tr>\n",
       "    <tr>\n",
       "      <th>53</th>\n",
       "      <td>157056.0</td>\n",
       "      <td>35.040001</td>\n",
       "      <td>139.199951</td>\n",
       "      <td>0.047</td>\n",
       "      <td>-0.152</td>\n",
       "    </tr>\n",
       "    <tr>\n",
       "      <th>54</th>\n",
       "      <td>157056.0</td>\n",
       "      <td>35.040001</td>\n",
       "      <td>139.280029</td>\n",
       "      <td>0.209</td>\n",
       "      <td>0.288</td>\n",
       "    </tr>\n",
       "  </tbody>\n",
       "</table>\n",
       "</div>"
      ],
      "text/plain": [
       "        time        lat         lon      u      v\n",
       "45  157056.0  35.040001  138.560059 -0.009 -0.034\n",
       "46  157056.0  35.040001  138.640015 -0.014 -0.016\n",
       "47  157056.0  35.040001  138.719971 -0.005  0.041\n",
       "53  157056.0  35.040001  139.199951  0.047 -0.152\n",
       "54  157056.0  35.040001  139.280029  0.209  0.288"
      ]
     },
     "execution_count": 427,
     "metadata": {},
     "output_type": "execute_result"
    }
   ],
   "source": [
    "df.head()"
   ]
  },
  {
   "cell_type": "code",
   "execution_count": 428,
   "metadata": {},
   "outputs": [],
   "source": [
    "df.to_csv('sample.csv')"
   ]
  },
  {
   "cell_type": "markdown",
   "metadata": {},
   "source": [
    "### Viz "
   ]
  },
  {
   "cell_type": "code",
   "execution_count": 441,
   "metadata": {},
   "outputs": [],
   "source": [
    "# import cartoframes as cf\n",
    "# from cartoframes import BaseMap, Layer, styling\n",
    "\n",
    "# cc = cf.CartoContext()\n",
    "# cc.write(df, 'sample_plastics', lnglat=('lon', 'lat'), overwrite=True)"
   ]
  },
  {
   "cell_type": "code",
   "execution_count": 438,
   "metadata": {},
   "outputs": [],
   "source": [
    "# cc.map(layers=[BaseMap(),\n",
    "#                Layer('sample_plastics',\n",
    "#                      color={'column': 'v',\n",
    "#                             'scheme': styling.tealRose(7)})],interactive=True)"
   ]
  },
  {
   "cell_type": "code",
   "execution_count": 437,
   "metadata": {},
   "outputs": [],
   "source": [
    "# cc.map(layers=[BaseMap(),\n",
    "#                Layer('sample_plastics',\n",
    "#                      color={'column': 'u',\n",
    "#                             'scheme': styling.tealRose(7)})],interactive=True)"
   ]
  },
  {
   "cell_type": "markdown",
   "metadata": {},
   "source": [
    "<br/><br/>"
   ]
  }
 ],
 "metadata": {
  "kernelspec": {
   "display_name": "Python 3",
   "language": "python",
   "name": "python3"
  },
  "language_info": {
   "codemirror_mode": {
    "name": "ipython",
    "version": 3
   },
   "file_extension": ".py",
   "mimetype": "text/x-python",
   "name": "python",
   "nbconvert_exporter": "python",
   "pygments_lexer": "ipython3",
   "version": "3.6.3"
  }
 },
 "nbformat": 4,
 "nbformat_minor": 2
}
