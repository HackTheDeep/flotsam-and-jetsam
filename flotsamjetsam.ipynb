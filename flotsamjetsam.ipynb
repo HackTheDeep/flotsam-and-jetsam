{
 "cells": [
  {
   "cell_type": "code",
   "execution_count": null,
   "metadata": {
    "collapsed": true
   },
   "outputs": [],
   "source": [
    "! conda install conda-forge "
   ]
  },
  {
   "cell_type": "code",
   "execution_count": 74,
   "metadata": {
    "collapsed": true
   },
   "outputs": [],
   "source": [
    "# http://pordlabs.ucsd.edu/cjiang/python.html\n",
    "\n",
    "from scipy.io import netcdf\n",
    "import pandas as pd\n",
    "import numpy as np\n",
    "\n",
    "f = netcdf.netcdf_file('uv3z.nc', 'r')"
   ]
  },
  {
   "cell_type": "code",
   "execution_count": 7,
   "metadata": {
    "scrolled": false
   },
   "outputs": [
    {
     "data": {
      "text/plain": [
       "OrderedDict([('water_u', <scipy.io.netcdf.netcdf_variable at 0x10d01cef0>),\n",
       "             ('time', <scipy.io.netcdf.netcdf_variable at 0x10d01ceb8>),\n",
       "             ('depth', <scipy.io.netcdf.netcdf_variable at 0x10d027048>),\n",
       "             ('lat', <scipy.io.netcdf.netcdf_variable at 0x10d027128>),\n",
       "             ('lon', <scipy.io.netcdf.netcdf_variable at 0x10d027208>),\n",
       "             ('water_v', <scipy.io.netcdf.netcdf_variable at 0x10d027320>)])"
      ]
     },
     "execution_count": 7,
     "metadata": {},
     "output_type": "execute_result"
    }
   ],
   "source": [
    "f.variables"
   ]
  },
  {
   "cell_type": "code",
   "execution_count": 232,
   "metadata": {},
   "outputs": [],
   "source": [
    "df = pd.read_csv('large_sample.csv')"
   ]
  },
  {
   "cell_type": "code",
   "execution_count": 233,
   "metadata": {},
   "outputs": [
    {
     "data": {
      "text/html": [
       "<div>\n",
       "<style scoped>\n",
       "    .dataframe tbody tr th:only-of-type {\n",
       "        vertical-align: middle;\n",
       "    }\n",
       "\n",
       "    .dataframe tbody tr th {\n",
       "        vertical-align: top;\n",
       "    }\n",
       "\n",
       "    .dataframe thead th {\n",
       "        text-align: right;\n",
       "    }\n",
       "</style>\n",
       "<table border=\"1\" class=\"dataframe\">\n",
       "  <thead>\n",
       "    <tr style=\"text-align: right;\">\n",
       "      <th></th>\n",
       "      <th>Unnamed: 0</th>\n",
       "      <th>time</th>\n",
       "      <th>lat</th>\n",
       "      <th>lon</th>\n",
       "      <th>u</th>\n",
       "      <th>v</th>\n",
       "    </tr>\n",
       "  </thead>\n",
       "  <tbody>\n",
       "    <tr>\n",
       "      <th>count</th>\n",
       "      <td>616416.000000</td>\n",
       "      <td>616416.000000</td>\n",
       "      <td>616416.000000</td>\n",
       "      <td>616416.000000</td>\n",
       "      <td>616416.000000</td>\n",
       "      <td>616416.000000</td>\n",
       "    </tr>\n",
       "    <tr>\n",
       "      <th>mean</th>\n",
       "      <td>353905.727872</td>\n",
       "      <td>157428.000000</td>\n",
       "      <td>38.675463</td>\n",
       "      <td>145.797065</td>\n",
       "      <td>0.206454</td>\n",
       "      <td>-0.041989</td>\n",
       "    </tr>\n",
       "    <tr>\n",
       "      <th>std</th>\n",
       "      <td>204038.252223</td>\n",
       "      <td>221.594403</td>\n",
       "      <td>2.013076</td>\n",
       "      <td>5.713493</td>\n",
       "      <td>0.389184</td>\n",
       "      <td>0.341566</td>\n",
       "    </tr>\n",
       "    <tr>\n",
       "      <th>min</th>\n",
       "      <td>45.000000</td>\n",
       "      <td>157056.000000</td>\n",
       "      <td>35.040001</td>\n",
       "      <td>134.959961</td>\n",
       "      <td>-1.348000</td>\n",
       "      <td>-2.318000</td>\n",
       "    </tr>\n",
       "    <tr>\n",
       "      <th>25%</th>\n",
       "      <td>176737.500000</td>\n",
       "      <td>157242.000000</td>\n",
       "      <td>36.959999</td>\n",
       "      <td>141.839966</td>\n",
       "      <td>-0.026000</td>\n",
       "      <td>-0.235000</td>\n",
       "    </tr>\n",
       "    <tr>\n",
       "      <th>50%</th>\n",
       "      <td>353430.000000</td>\n",
       "      <td>157428.000000</td>\n",
       "      <td>38.720001</td>\n",
       "      <td>146.239990</td>\n",
       "      <td>0.143000</td>\n",
       "      <td>-0.049000</td>\n",
       "    </tr>\n",
       "    <tr>\n",
       "      <th>75%</th>\n",
       "      <td>530122.500000</td>\n",
       "      <td>157614.000000</td>\n",
       "      <td>40.400002</td>\n",
       "      <td>150.640015</td>\n",
       "      <td>0.368000</td>\n",
       "      <td>0.146000</td>\n",
       "    </tr>\n",
       "    <tr>\n",
       "      <th>max</th>\n",
       "      <td>706815.000000</td>\n",
       "      <td>157800.000000</td>\n",
       "      <td>42.000000</td>\n",
       "      <td>154.959961</td>\n",
       "      <td>2.737000</td>\n",
       "      <td>1.645000</td>\n",
       "    </tr>\n",
       "  </tbody>\n",
       "</table>\n",
       "</div>"
      ],
      "text/plain": [
       "          Unnamed: 0           time            lat            lon  \\\n",
       "count  616416.000000  616416.000000  616416.000000  616416.000000   \n",
       "mean   353905.727872  157428.000000      38.675463     145.797065   \n",
       "std    204038.252223     221.594403       2.013076       5.713493   \n",
       "min        45.000000  157056.000000      35.040001     134.959961   \n",
       "25%    176737.500000  157242.000000      36.959999     141.839966   \n",
       "50%    353430.000000  157428.000000      38.720001     146.239990   \n",
       "75%    530122.500000  157614.000000      40.400002     150.640015   \n",
       "max    706815.000000  157800.000000      42.000000     154.959961   \n",
       "\n",
       "                   u              v  \n",
       "count  616416.000000  616416.000000  \n",
       "mean        0.206454      -0.041989  \n",
       "std         0.389184       0.341566  \n",
       "min        -1.348000      -2.318000  \n",
       "25%        -0.026000      -0.235000  \n",
       "50%         0.143000      -0.049000  \n",
       "75%         0.368000       0.146000  \n",
       "max         2.737000       1.645000  "
      ]
     },
     "execution_count": 233,
     "metadata": {},
     "output_type": "execute_result"
    }
   ],
   "source": [
    "df.describe()"
   ]
  },
  {
   "cell_type": "code",
   "execution_count": 234,
   "metadata": {},
   "outputs": [
    {
     "data": {
      "text/html": [
       "<div>\n",
       "<style scoped>\n",
       "    .dataframe tbody tr th:only-of-type {\n",
       "        vertical-align: middle;\n",
       "    }\n",
       "\n",
       "    .dataframe tbody tr th {\n",
       "        vertical-align: top;\n",
       "    }\n",
       "\n",
       "    .dataframe thead th {\n",
       "        text-align: right;\n",
       "    }\n",
       "</style>\n",
       "<table border=\"1\" class=\"dataframe\">\n",
       "  <thead>\n",
       "    <tr style=\"text-align: right;\">\n",
       "      <th></th>\n",
       "      <th>Unnamed: 0</th>\n",
       "      <th>time</th>\n",
       "      <th>lat</th>\n",
       "      <th>lon</th>\n",
       "      <th>u</th>\n",
       "      <th>v</th>\n",
       "    </tr>\n",
       "  </thead>\n",
       "  <tbody>\n",
       "    <tr>\n",
       "      <th>0</th>\n",
       "      <td>45</td>\n",
       "      <td>157056.0</td>\n",
       "      <td>35.040001</td>\n",
       "      <td>138.560059</td>\n",
       "      <td>-0.009</td>\n",
       "      <td>-0.034</td>\n",
       "    </tr>\n",
       "    <tr>\n",
       "      <th>1</th>\n",
       "      <td>46</td>\n",
       "      <td>157056.0</td>\n",
       "      <td>35.040001</td>\n",
       "      <td>138.640015</td>\n",
       "      <td>-0.014</td>\n",
       "      <td>-0.016</td>\n",
       "    </tr>\n",
       "    <tr>\n",
       "      <th>2</th>\n",
       "      <td>47</td>\n",
       "      <td>157056.0</td>\n",
       "      <td>35.040001</td>\n",
       "      <td>138.719971</td>\n",
       "      <td>-0.005</td>\n",
       "      <td>0.041</td>\n",
       "    </tr>\n",
       "    <tr>\n",
       "      <th>3</th>\n",
       "      <td>53</td>\n",
       "      <td>157056.0</td>\n",
       "      <td>35.040001</td>\n",
       "      <td>139.199951</td>\n",
       "      <td>0.047</td>\n",
       "      <td>-0.152</td>\n",
       "    </tr>\n",
       "    <tr>\n",
       "      <th>4</th>\n",
       "      <td>54</td>\n",
       "      <td>157056.0</td>\n",
       "      <td>35.040001</td>\n",
       "      <td>139.280029</td>\n",
       "      <td>0.209</td>\n",
       "      <td>0.288</td>\n",
       "    </tr>\n",
       "  </tbody>\n",
       "</table>\n",
       "</div>"
      ],
      "text/plain": [
       "   Unnamed: 0      time        lat         lon      u      v\n",
       "0          45  157056.0  35.040001  138.560059 -0.009 -0.034\n",
       "1          46  157056.0  35.040001  138.640015 -0.014 -0.016\n",
       "2          47  157056.0  35.040001  138.719971 -0.005  0.041\n",
       "3          53  157056.0  35.040001  139.199951  0.047 -0.152\n",
       "4          54  157056.0  35.040001  139.280029  0.209  0.288"
      ]
     },
     "execution_count": 234,
     "metadata": {},
     "output_type": "execute_result"
    }
   ],
   "source": [
    "df.head()"
   ]
  },
  {
   "cell_type": "code",
   "execution_count": 235,
   "metadata": {
    "scrolled": true
   },
   "outputs": [],
   "source": [
    "df['magnitude'] = np.sqrt(np.square(df['u']) + np.square(df['v']))"
   ]
  },
  {
   "cell_type": "code",
   "execution_count": 236,
   "metadata": {
    "collapsed": true
   },
   "outputs": [],
   "source": [
    "def get_angle(row):\n",
    "    if row['u'] < 0 and row['v'] > 0:\n",
    "        angle = 180*np.arctan(np.abs(row['u']/row['v']))/np.pi + 90\n",
    "    elif row['u'] < 0 and row['v'] < 0:\n",
    "        angle = 180*np.arctan(np.abs(row['u']/row['v']))/np.pi + 180\n",
    "    elif row['u'] > 0 and row['v'] < 0:\n",
    "        angle = 360 + 180*np.arctan(row['u']/row['v'])/np.pi\n",
    "    else:\n",
    "        angle = 180*np.arctan(np.abs(row['u']/row['v']))/np.pi\n",
    "    return angle"
   ]
  },
  {
   "cell_type": "code",
   "execution_count": 238,
   "metadata": {
    "scrolled": true
   },
   "outputs": [
    {
     "name": "stderr",
     "output_type": "stream",
     "text": [
      "/Users/michelleho/anaconda3/lib/python3.6/site-packages/ipykernel_launcher.py:9: RuntimeWarning: divide by zero encountered in double_scalars\n",
      "  if __name__ == '__main__':\n",
      "/Users/michelleho/anaconda3/lib/python3.6/site-packages/ipykernel_launcher.py:9: RuntimeWarning: invalid value encountered in double_scalars\n",
      "  if __name__ == '__main__':\n"
     ]
    }
   ],
   "source": [
    "df['angle'] = df.apply(get_angle, axis=1)"
   ]
  },
  {
   "cell_type": "code",
   "execution_count": null,
   "metadata": {},
   "outputs": [],
   "source": [
    "df['angle'].describe()"
   ]
  },
  {
   "cell_type": "code",
   "execution_count": null,
   "metadata": {
    "scrolled": true
   },
   "outputs": [],
   "source": [
    "np.arctan(1/)"
   ]
  },
  {
   "cell_type": "code",
   "execution_count": 91,
   "metadata": {
    "scrolled": true
   },
   "outputs": [
    {
     "data": {
      "text/plain": [
       "count    16748.000000\n",
       "mean        -0.082583\n",
       "std          0.995506\n",
       "min         -1.570796\n",
       "25%         -1.000424\n",
       "50%         -0.156462\n",
       "75%          0.890688\n",
       "max          1.570796\n",
       "Name: angle, dtype: float64"
      ]
     },
     "execution_count": 91,
     "metadata": {},
     "output_type": "execute_result"
    }
   ],
   "source": [
    "df['angle'].describe()"
   ]
  },
  {
   "cell_type": "code",
   "execution_count": 251,
   "metadata": {
    "scrolled": true
   },
   "outputs": [],
   "source": [
    "df['date'] = pd.to_datetime('2000-01-01') + pd.to_timedelta(df['time'], unit='h')"
   ]
  },
  {
   "cell_type": "code",
   "execution_count": 255,
   "metadata": {},
   "outputs": [
    {
     "data": {
      "text/plain": [
       "Unnamed: 0             int64\n",
       "time                 float64\n",
       "lat                  float64\n",
       "lon                  float64\n",
       "u                    float64\n",
       "v                    float64\n",
       "magnitude            float64\n",
       "angle                float64\n",
       "date          datetime64[ns]\n",
       "dtype: object"
      ]
     },
     "execution_count": 255,
     "metadata": {},
     "output_type": "execute_result"
    }
   ],
   "source": [
    "df.dtypes"
   ]
  },
  {
   "cell_type": "code",
   "execution_count": 252,
   "metadata": {
    "collapsed": true
   },
   "outputs": [],
   "source": [
    "df.to_csv('large_sample_processed.csv')"
   ]
  },
  {
   "cell_type": "code",
   "execution_count": 219,
   "metadata": {
    "collapsed": true
   },
   "outputs": [],
   "source": [
    "# Code for animation with ipywidgets (needs to be adapted!)"
   ]
  },
  {
   "cell_type": "code",
   "execution_count": null,
   "metadata": {
    "collapsed": true
   },
   "outputs": [],
   "source": [
    "import matplotlib as mpl\n",
    "import matplotlib.cm as cm\n",
    "\n",
    "plt.figure(figsize=(8,10))\n",
    "jet = plt.get_cmap('rainbow')\n",
    "\n",
    "for key, value in df_vectors.items():\n",
    "    soa = np.array(value)\n",
    "    X, Y, U, V = zip(*soa)\n",
    "    N = np.sqrt(np.array(U)**2+np.array(V)**2)\n",
    "    U2, V2 = (U/N)/400, (V/N)/400\n",
    "    ax = plt.gca()\n",
    "    ax.quiver(Y, X, U2, V2, angles='xy', scale_units='xy', scale=1,color=jet(float(key)/23))\n",
    "    ax.set_ylim([stations['latitude'].min()-.01, stations['latitude'].max()+.01])\n",
    "    ax.set_xlim([stations['longitude'].min()-.01, stations['longitude'].max()+.01])\n",
    "    ax.scatter(stations['longitude'],stations['latitude'],c='k',s=2)\n",
    "\n",
    "plt.draw()\n",
    "plt.show()\n"
   ]
  },
  {
   "cell_type": "code",
   "execution_count": 87,
   "metadata": {
    "collapsed": true
   },
   "outputs": [],
   "source": [
    "from ipywidgets import interact, interactive, fixed, interact_manual\n",
    "import ipywidgets as widgets\n",
    "\n",
    "\n",
    "def plotByHour(hour):\n",
    "    plt.figure(figsize=(8,10))\n",
    "    soa = np.array(df_vectors[hour])\n",
    "    X, Y, U, V = zip(*soa)\n",
    "    N = np.sqrt(np.array(U)**2+np.array(V)**2)\n",
    "    U2, V2 = (U/N)/400, (V/N)/400\n",
    "    ax = plt.gca()\n",
    "    ax.quiver(Y, X, U2, V2, angles='xy', scale_units='xy', scale=1, color=jet(float(hour)/23))\n",
    "    ax.set_ylim([stations['latitude'].min()-.01, stations['latitude'].max()+.01])\n",
    "    ax.set_xlim([stations['longitude'].min()-.01, stations['longitude'].max()+.01])\n",
    "    ax.scatter(stations['longitude'],stations['latitude'], s=2, c='k')\n",
    "    plt.draw()\n",
    "    return plt.show()\n"
   ]
  },
  {
   "cell_type": "code",
   "execution_count": 89,
   "metadata": {
    "scrolled": true
   },
   "outputs": [
    {
     "ename": "NameError",
     "evalue": "name 'df_vectors' is not defined",
     "output_type": "error",
     "traceback": [
      "\u001b[0;31m---------------------------------------------------------------------------\u001b[0m",
      "\u001b[0;31mNameError\u001b[0m                                 Traceback (most recent call last)",
      "\u001b[0;32m<ipython-input-89-65e34973f327>\u001b[0m in \u001b[0;36m<module>\u001b[0;34m()\u001b[0m\n\u001b[0;32m----> 1\u001b[0;31m \u001b[0mdf_vectors\u001b[0m\u001b[0;34m\u001b[0m\u001b[0m\n\u001b[0m",
      "\u001b[0;31mNameError\u001b[0m: name 'df_vectors' is not defined"
     ]
    }
   ],
   "source": [
    "df_vectors"
   ]
  },
  {
   "cell_type": "code",
   "execution_count": 88,
   "metadata": {},
   "outputs": [
    {
     "data": {
      "application/vnd.jupyter.widget-view+json": {
       "model_id": "ab3f6adb00464888b4fa5e177b591bfa"
      }
     },
     "metadata": {},
     "output_type": "display_data"
    },
    {
     "data": {
      "text/plain": [
       "<function __main__.plotByHour>"
      ]
     },
     "execution_count": 88,
     "metadata": {},
     "output_type": "execute_result"
    }
   ],
   "source": [
    "interact(plotByHour, hour=widgets.IntSlider(min=0,max=2,step=1,value=0))"
   ]
  },
  {
   "cell_type": "code",
   "execution_count": null,
   "metadata": {
    "collapsed": true
   },
   "outputs": [],
   "source": []
  }
 ],
 "metadata": {
  "kernelspec": {
   "display_name": "Python 3",
   "language": "python",
   "name": "python3"
  },
  "language_info": {
   "codemirror_mode": {
    "name": "ipython",
    "version": 3
   },
   "file_extension": ".py",
   "mimetype": "text/x-python",
   "name": "python",
   "nbconvert_exporter": "python",
   "pygments_lexer": "ipython3",
   "version": "3.6.1"
  }
 },
 "nbformat": 4,
 "nbformat_minor": 2
}
